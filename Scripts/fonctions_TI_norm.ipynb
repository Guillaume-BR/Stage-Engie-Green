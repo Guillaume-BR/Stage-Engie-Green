{
 "cells": [
  {
   "cell_type": "code",
   "execution_count": 1,
   "metadata": {},
   "outputs": [],
   "source": [
    "import numpy as np\n",
    "import pandas as pd\n",
    "import scipy as sc"
   ]
  },
  {
   "cell_type": "code",
   "execution_count": 7,
   "metadata": {},
   "outputs": [],
   "source": [
    "def figure_M2(df_norm):\n",
    "    breaks = np.arange(0,25,step=0.5)\n",
    "    df_norm['bin'] = pd.cut(df_norm['ws_hub_norm'],\n",
    "                            bins=breaks,\n",
    "                            right=False,\n",
    "                            as_index=False)\n",
    "    df_bin = df_norm.groupby(bins).agg({'ws_hub_norm' : lambda x: mean(x.dropna()),\n",
    "          'ti_hub' : lambda x: mean(x.dropna()),\n",
    "          'P' : lambda x: mean(x.dropna()) * 1000 \n",
    "    }).rename(columns={\n",
    "        'ws_hub_norm' : 'ws',\n",
    "        'ti_hub' : 'ti'\n",
    "    })\n",
    "\n",
    "    df_bin['cp'] = 2 * df_bin['P']/(rho * df_bin['ws']**3 * A)\n",
    "\n",
    "    return df_bin"
   ]
  }
 ],
 "metadata": {
  "kernelspec": {
   "display_name": "Python 3",
   "language": "python",
   "name": "python3"
  },
  "language_info": {
   "codemirror_mode": {
    "name": "ipython",
    "version": 3
   },
   "file_extension": ".py",
   "mimetype": "text/x-python",
   "name": "python",
   "nbconvert_exporter": "python",
   "pygments_lexer": "ipython3",
   "version": "3.12.4"
  }
 },
 "nbformat": 4,
 "nbformat_minor": 2
}
